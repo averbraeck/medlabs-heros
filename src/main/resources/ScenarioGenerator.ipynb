{
 "cells": [
  {
   "cell_type": "code",
   "execution_count": 1,
   "metadata": {},
   "outputs": [],
   "source": [
    "from sklearn.model_selection import ParameterSampler\n",
    "from scipy.stats.distributions import uniform\n",
    "import numpy as np\n",
    "rng = np.random.RandomState(0)\n",
    "param_grid = {'covid.ContagiousRate' : uniform(loc=1, scale=7), \n",
    "              'covid.InfectionProbability' : uniform(loc=0, scale=1),\n",
    "              'policies.NumberInfected' : uniform(loc=0, scale=50)}\n",
    "\n",
    "n_scenarios = 10\n",
    "\n",
    "param_list = list(ParameterSampler(param_grid, n_iter=n_scenarios, random_state=rng))\n",
    "scenarios = [dict((k, round(v, 6)) for (k, v) in d.items()) for d in param_list]"
   ]
  },
  {
   "cell_type": "code",
   "execution_count": 2,
   "metadata": {},
   "outputs": [
    {
     "output_type": "execute_result",
     "data": {
      "text/plain": [
       "[{'covid.ContagiousRate': 4.841695,\n",
       "  'covid.InfectionProbability': 0.715189,\n",
       "  'policies.NumberInfected': 30.138169},\n",
       " {'covid.ContagiousRate': 4.814182,\n",
       "  'covid.InfectionProbability': 0.423655,\n",
       "  'policies.NumberInfected': 32.294706},\n",
       " {'covid.ContagiousRate': 4.06311,\n",
       "  'covid.InfectionProbability': 0.891773,\n",
       "  'policies.NumberInfected': 48.183138},\n",
       " {'covid.ContagiousRate': 3.684091,\n",
       "  'covid.InfectionProbability': 0.791725,\n",
       "  'policies.NumberInfected': 26.444746},\n",
       " {'covid.ContagiousRate': 4.976312,\n",
       "  'covid.InfectionProbability': 0.925597,\n",
       "  'policies.NumberInfected': 3.551803},\n",
       " {'covid.ContagiousRate': 1.609905,\n",
       "  'covid.InfectionProbability': 0.020218,\n",
       "  'policies.NumberInfected': 41.630992},\n",
       " {'covid.ContagiousRate': 6.447097,\n",
       "  'covid.InfectionProbability': 0.870012,\n",
       "  'policies.NumberInfected': 48.930917},\n",
       " {'covid.ContagiousRate': 6.59411,\n",
       "  'covid.InfectionProbability': 0.461479,\n",
       "  'policies.NumberInfected': 39.026459},\n",
       " {'covid.ContagiousRate': 1.827921,\n",
       "  'covid.InfectionProbability': 0.639921,\n",
       "  'policies.NumberInfected': 7.167664},\n",
       " {'covid.ContagiousRate': 7.612682,\n",
       "  'covid.InfectionProbability': 0.521848,\n",
       "  'policies.NumberInfected': 20.733097}]"
      ]
     },
     "metadata": {},
     "execution_count": 2
    }
   ],
   "source": [
    "scenarios"
   ]
  },
  {
   "cell_type": "code",
   "execution_count": 80,
   "metadata": {},
   "outputs": [],
   "source": [
    "policies = [['policy0', 'policy0'], \n",
    "            ['policy0', 'policy0'], \n",
    "            ['policy0', 'policy0'],\n",
    "            ['policies.DayStartPolicy1 = -1', 'policies.DayStartPolicy1 = 1'],\n",
    "            ['policies.DayStartPolicy1 = -1', 'policies.DayStartPolicy1 = 7'], \n",
    "            ['policies.DayStartPolicy1 = -1', 'policies.DayStartPolicy1 = 15'],\n",
    "            ['policies.DayStartPolicy2 = -1', 'policies.DayStartPolicy2 = 1'], \n",
    "            ['policies.DayStartPolicy2 = -1', 'policies.DayStartPolicy2 = 7'], \n",
    "            ['policies.DayStartPolicy2 = -1', 'policies.DayStartPolicy2 = 15']]"
   ]
  },
  {
   "cell_type": "code",
   "execution_count": 81,
   "metadata": {},
   "outputs": [],
   "source": [
    "l = 0\n",
    "for policy in policies:\n",
    "    k = 0\n",
    "    for scenario in scenarios:\n",
    "        with open(\"template.properties\", \"rt\") as file:\n",
    "            text = file.read()\n",
    "            for param, value in scenario.items():\n",
    "                if param == 'policies.NumberInfected':\n",
    "                    value = int(value)\n",
    "                text = text.replace(param, param + ' = ' + str(value))\n",
    "            text = text.replace(policy[0], policy[1])    \n",
    "        text = text.replace('generic.OutputPath', 'generic.OutputPath = ./model_output/' + \\\n",
    "            'policy' + str(l) + '/scenario' + str(k))\n",
    "        if not os.path.exists(f'policy{l}'):\n",
    "            os.makedirs(f'policy{l}')    \n",
    "        with open(f\"policy{l}/scenario\" + str(k) + \".properties\", \"w\") as file:\n",
    "            file.write(text)\n",
    "        k += 1\n",
    "    l +=1"
   ]
  },
  {
   "cell_type": "code",
   "execution_count": 85,
   "metadata": {},
   "outputs": [
    {
     "output_type": "stream",
     "name": "stdout",
     "text": [
      "java -Xmx4G -jar medlabs-heros.jar scenarios/policy0/scenario0.properties BATCH >run2.out 2>run2.err &\njava -Xmx4G -jar medlabs-heros.jar scenarios/policy0/scenario1.properties BATCH >run3.out 2>run3.err &\njava -Xmx4G -jar medlabs-heros.jar scenarios/policy0/scenario2.properties BATCH >run4.out 2>run4.err &\njava -Xmx4G -jar medlabs-heros.jar scenarios/policy0/scenario3.properties BATCH >run5.out 2>run5.err &\njava -Xmx4G -jar medlabs-heros.jar scenarios/policy0/scenario4.properties BATCH >run6.out 2>run6.err &\njava -Xmx4G -jar medlabs-heros.jar scenarios/policy0/scenario5.properties BATCH >run7.out 2>run7.err &\njava -Xmx4G -jar medlabs-heros.jar scenarios/policy0/scenario6.properties BATCH >run8.out 2>run8.err &\njava -Xmx4G -jar medlabs-heros.jar scenarios/policy0/scenario7.properties BATCH >run9.out 2>run9.err &\njava -Xmx4G -jar medlabs-heros.jar scenarios/policy0/scenario8.properties BATCH >run10.out 2>run10.err &\njava -Xmx4G -jar medlabs-heros.jar scenarios/policy0/scenario9.properties BATCH >run11.out 2>run11.err &\njava -Xmx4G -jar medlabs-heros.jar scenarios/policy1/scenario0.properties BATCH >run12.out 2>run12.err &\njava -Xmx4G -jar medlabs-heros.jar scenarios/policy1/scenario1.properties BATCH >run13.out 2>run13.err &\njava -Xmx4G -jar medlabs-heros.jar scenarios/policy1/scenario2.properties BATCH >run14.out 2>run14.err &\njava -Xmx4G -jar medlabs-heros.jar scenarios/policy1/scenario3.properties BATCH >run15.out 2>run15.err &\njava -Xmx4G -jar medlabs-heros.jar scenarios/policy1/scenario4.properties BATCH >run16.out 2>run16.err &\njava -Xmx4G -jar medlabs-heros.jar scenarios/policy1/scenario5.properties BATCH >run17.out 2>run17.err &\njava -Xmx4G -jar medlabs-heros.jar scenarios/policy1/scenario6.properties BATCH >run18.out 2>run18.err &\njava -Xmx4G -jar medlabs-heros.jar scenarios/policy1/scenario7.properties BATCH >run19.out 2>run19.err &\nsleep 30m\njava -Xmx4G -jar medlabs-heros.jar scenarios/policy1/scenario8.properties BATCH >run20.out 2>run20.err &\njava -Xmx4G -jar medlabs-heros.jar scenarios/policy1/scenario9.properties BATCH >run21.out 2>run21.err &\njava -Xmx4G -jar medlabs-heros.jar scenarios/policy2/scenario0.properties BATCH >run22.out 2>run22.err &\njava -Xmx4G -jar medlabs-heros.jar scenarios/policy2/scenario1.properties BATCH >run23.out 2>run23.err &\njava -Xmx4G -jar medlabs-heros.jar scenarios/policy2/scenario2.properties BATCH >run24.out 2>run24.err &\njava -Xmx4G -jar medlabs-heros.jar scenarios/policy2/scenario3.properties BATCH >run25.out 2>run25.err &\njava -Xmx4G -jar medlabs-heros.jar scenarios/policy2/scenario4.properties BATCH >run26.out 2>run26.err &\njava -Xmx4G -jar medlabs-heros.jar scenarios/policy2/scenario5.properties BATCH >run27.out 2>run27.err &\njava -Xmx4G -jar medlabs-heros.jar scenarios/policy2/scenario6.properties BATCH >run28.out 2>run28.err &\njava -Xmx4G -jar medlabs-heros.jar scenarios/policy2/scenario7.properties BATCH >run29.out 2>run29.err &\njava -Xmx4G -jar medlabs-heros.jar scenarios/policy2/scenario8.properties BATCH >run30.out 2>run30.err &\njava -Xmx4G -jar medlabs-heros.jar scenarios/policy2/scenario9.properties BATCH >run31.out 2>run31.err &\njava -Xmx4G -jar medlabs-heros.jar scenarios/policy3/scenario0.properties BATCH >run32.out 2>run32.err &\njava -Xmx4G -jar medlabs-heros.jar scenarios/policy3/scenario1.properties BATCH >run33.out 2>run33.err &\njava -Xmx4G -jar medlabs-heros.jar scenarios/policy3/scenario2.properties BATCH >run34.out 2>run34.err &\njava -Xmx4G -jar medlabs-heros.jar scenarios/policy3/scenario3.properties BATCH >run35.out 2>run35.err &\njava -Xmx4G -jar medlabs-heros.jar scenarios/policy3/scenario4.properties BATCH >run36.out 2>run36.err &\njava -Xmx4G -jar medlabs-heros.jar scenarios/policy3/scenario5.properties BATCH >run37.out 2>run37.err &\njava -Xmx4G -jar medlabs-heros.jar scenarios/policy3/scenario6.properties BATCH >run38.out 2>run38.err &\njava -Xmx4G -jar medlabs-heros.jar scenarios/policy3/scenario7.properties BATCH >run39.out 2>run39.err &\nsleep 30m\njava -Xmx4G -jar medlabs-heros.jar scenarios/policy3/scenario8.properties BATCH >run40.out 2>run40.err &\njava -Xmx4G -jar medlabs-heros.jar scenarios/policy3/scenario9.properties BATCH >run41.out 2>run41.err &\njava -Xmx4G -jar medlabs-heros.jar scenarios/policy4/scenario0.properties BATCH >run42.out 2>run42.err &\njava -Xmx4G -jar medlabs-heros.jar scenarios/policy4/scenario1.properties BATCH >run43.out 2>run43.err &\njava -Xmx4G -jar medlabs-heros.jar scenarios/policy4/scenario2.properties BATCH >run44.out 2>run44.err &\njava -Xmx4G -jar medlabs-heros.jar scenarios/policy4/scenario3.properties BATCH >run45.out 2>run45.err &\njava -Xmx4G -jar medlabs-heros.jar scenarios/policy4/scenario4.properties BATCH >run46.out 2>run46.err &\njava -Xmx4G -jar medlabs-heros.jar scenarios/policy4/scenario5.properties BATCH >run47.out 2>run47.err &\njava -Xmx4G -jar medlabs-heros.jar scenarios/policy4/scenario6.properties BATCH >run48.out 2>run48.err &\njava -Xmx4G -jar medlabs-heros.jar scenarios/policy4/scenario7.properties BATCH >run49.out 2>run49.err &\njava -Xmx4G -jar medlabs-heros.jar scenarios/policy4/scenario8.properties BATCH >run50.out 2>run50.err &\njava -Xmx4G -jar medlabs-heros.jar scenarios/policy4/scenario9.properties BATCH >run51.out 2>run51.err &\njava -Xmx4G -jar medlabs-heros.jar scenarios/policy5/scenario0.properties BATCH >run52.out 2>run52.err &\njava -Xmx4G -jar medlabs-heros.jar scenarios/policy5/scenario1.properties BATCH >run53.out 2>run53.err &\njava -Xmx4G -jar medlabs-heros.jar scenarios/policy5/scenario2.properties BATCH >run54.out 2>run54.err &\njava -Xmx4G -jar medlabs-heros.jar scenarios/policy5/scenario3.properties BATCH >run55.out 2>run55.err &\njava -Xmx4G -jar medlabs-heros.jar scenarios/policy5/scenario4.properties BATCH >run56.out 2>run56.err &\njava -Xmx4G -jar medlabs-heros.jar scenarios/policy5/scenario5.properties BATCH >run57.out 2>run57.err &\njava -Xmx4G -jar medlabs-heros.jar scenarios/policy5/scenario6.properties BATCH >run58.out 2>run58.err &\njava -Xmx4G -jar medlabs-heros.jar scenarios/policy5/scenario7.properties BATCH >run59.out 2>run59.err &\nsleep 30m\njava -Xmx4G -jar medlabs-heros.jar scenarios/policy5/scenario8.properties BATCH >run60.out 2>run60.err &\njava -Xmx4G -jar medlabs-heros.jar scenarios/policy5/scenario9.properties BATCH >run61.out 2>run61.err &\njava -Xmx4G -jar medlabs-heros.jar scenarios/policy6/scenario0.properties BATCH >run62.out 2>run62.err &\njava -Xmx4G -jar medlabs-heros.jar scenarios/policy6/scenario1.properties BATCH >run63.out 2>run63.err &\njava -Xmx4G -jar medlabs-heros.jar scenarios/policy6/scenario2.properties BATCH >run64.out 2>run64.err &\njava -Xmx4G -jar medlabs-heros.jar scenarios/policy6/scenario3.properties BATCH >run65.out 2>run65.err &\njava -Xmx4G -jar medlabs-heros.jar scenarios/policy6/scenario4.properties BATCH >run66.out 2>run66.err &\njava -Xmx4G -jar medlabs-heros.jar scenarios/policy6/scenario5.properties BATCH >run67.out 2>run67.err &\njava -Xmx4G -jar medlabs-heros.jar scenarios/policy6/scenario6.properties BATCH >run68.out 2>run68.err &\njava -Xmx4G -jar medlabs-heros.jar scenarios/policy6/scenario7.properties BATCH >run69.out 2>run69.err &\njava -Xmx4G -jar medlabs-heros.jar scenarios/policy6/scenario8.properties BATCH >run70.out 2>run70.err &\njava -Xmx4G -jar medlabs-heros.jar scenarios/policy6/scenario9.properties BATCH >run71.out 2>run71.err &\njava -Xmx4G -jar medlabs-heros.jar scenarios/policy7/scenario0.properties BATCH >run72.out 2>run72.err &\njava -Xmx4G -jar medlabs-heros.jar scenarios/policy7/scenario1.properties BATCH >run73.out 2>run73.err &\njava -Xmx4G -jar medlabs-heros.jar scenarios/policy7/scenario2.properties BATCH >run74.out 2>run74.err &\njava -Xmx4G -jar medlabs-heros.jar scenarios/policy7/scenario3.properties BATCH >run75.out 2>run75.err &\njava -Xmx4G -jar medlabs-heros.jar scenarios/policy7/scenario4.properties BATCH >run76.out 2>run76.err &\njava -Xmx4G -jar medlabs-heros.jar scenarios/policy7/scenario5.properties BATCH >run77.out 2>run77.err &\njava -Xmx4G -jar medlabs-heros.jar scenarios/policy7/scenario6.properties BATCH >run78.out 2>run78.err &\njava -Xmx4G -jar medlabs-heros.jar scenarios/policy7/scenario7.properties BATCH >run79.out 2>run79.err &\nsleep 30m\njava -Xmx4G -jar medlabs-heros.jar scenarios/policy7/scenario8.properties BATCH >run80.out 2>run80.err &\njava -Xmx4G -jar medlabs-heros.jar scenarios/policy7/scenario9.properties BATCH >run81.out 2>run81.err &\njava -Xmx4G -jar medlabs-heros.jar scenarios/policy8/scenario0.properties BATCH >run82.out 2>run82.err &\njava -Xmx4G -jar medlabs-heros.jar scenarios/policy8/scenario1.properties BATCH >run83.out 2>run83.err &\njava -Xmx4G -jar medlabs-heros.jar scenarios/policy8/scenario2.properties BATCH >run84.out 2>run84.err &\njava -Xmx4G -jar medlabs-heros.jar scenarios/policy8/scenario3.properties BATCH >run85.out 2>run85.err &\njava -Xmx4G -jar medlabs-heros.jar scenarios/policy8/scenario4.properties BATCH >run86.out 2>run86.err &\njava -Xmx4G -jar medlabs-heros.jar scenarios/policy8/scenario5.properties BATCH >run87.out 2>run87.err &\njava -Xmx4G -jar medlabs-heros.jar scenarios/policy8/scenario6.properties BATCH >run88.out 2>run88.err &\njava -Xmx4G -jar medlabs-heros.jar scenarios/policy8/scenario7.properties BATCH >run89.out 2>run89.err &\njava -Xmx4G -jar medlabs-heros.jar scenarios/policy8/scenario8.properties BATCH >run90.out 2>run90.err &\njava -Xmx4G -jar medlabs-heros.jar scenarios/policy8/scenario9.properties BATCH >run91.out 2>run91.err &\n"
     ]
    }
   ],
   "source": [
    "Sn_policies = len(policies)\n",
    "l = 0\n",
    "m = 2\n",
    "for j in range(n_policies):\n",
    "    k = 0\n",
    "    for i in range(n_scenarios):\n",
    "        if m == 20 or m == 40 or m == 60 or m == 80:\n",
    "            print('sleep 30m')\n",
    "        print(f'java -Xmx4G -jar medlabs-heros.jar scenarios/policy{l}/scenario{k}.properties BATCH >run{m}.out 2>run{m}.err &')\n",
    "        k += 1\n",
    "        m += 1\n",
    "    l += 1"
   ]
  },
  {
   "cell_type": "code",
   "execution_count": null,
   "metadata": {},
   "outputs": [],
   "source": []
  }
 ],
 "metadata": {
  "kernelspec": {
   "display_name": "heros",
   "language": "python",
   "name": "heros"
  },
  "language_info": {
   "codemirror_mode": {
    "name": "ipython",
    "version": 3
   },
   "file_extension": ".py",
   "mimetype": "text/x-python",
   "name": "python",
   "nbconvert_exporter": "python",
   "pygments_lexer": "ipython3",
   "version": "3.7.6-final"
  }
 },
 "nbformat": 4,
 "nbformat_minor": 4
}